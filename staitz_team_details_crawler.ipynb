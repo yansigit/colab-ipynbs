{
  "nbformat": 4,
  "nbformat_minor": 0,
  "metadata": {
    "colab": {
      "name": "staitz_team_details_crawler.ipynb",
      "provenance": [],
      "authorship_tag": "ABX9TyOtKaUvp/6AcOIhv1jfa10C",
      "include_colab_link": true
    },
    "kernelspec": {
      "name": "python3",
      "display_name": "Python 3"
    }
  },
  "cells": [
    {
      "cell_type": "markdown",
      "metadata": {
        "id": "view-in-github",
        "colab_type": "text"
      },
      "source": [
        "<a href=\"https://colab.research.google.com/github/yansigit/colab-ipynbs/blob/main/staitz_team_details_crawler.ipynb\" target=\"_parent\"><img src=\"https://colab.research.google.com/assets/colab-badge.svg\" alt=\"Open In Colab\"/></a>"
      ]
    },
    {
      "cell_type": "code",
      "metadata": {
        "id": "nrZ6c6hrsTJw"
      },
      "source": [
        "!pip install Selenium\n",
        "\n",
        "!apt-get update # to update ubuntu to correctly run apt install\n",
        "\n",
        "!apt install chromium-chromedriver"
      ],
      "execution_count": null,
      "outputs": []
    },
    {
      "cell_type": "code",
      "metadata": {
        "id": "-C01vjOysh1q"
      },
      "source": [
        "from selenium import webdriver\n",
        "\n",
        "chrome_options = webdriver.ChromeOptions()\n",
        "chrome_options.add_argument('--headless') #내부 창을 띄울 수 없으므로 설정\n",
        "chrome_options.add_argument('--no-sandbox')\n",
        "chrome_options.add_argument('--disable-dev-shm-usage')\n",
        "driver = webdriver.Chrome('chromedriver',chrome_options=chrome_options)"
      ],
      "execution_count": null,
      "outputs": []
    },
    {
      "cell_type": "code",
      "metadata": {
        "id": "9WU7CXxJsvoP"
      },
      "source": [
        "# re 0 -> 타자, 1 -> 투수\n",
        "url = \"http://www.statiz.co.kr/stat.php?opt=0&sopt=0&re={}&ys={}&ye={}&se=0&te={}&tm=&ty=0&qu=auto&po=0&as=&ae=&hi=&un=&pl=&da=1&o1=WAR_ALL_ADJ&o2=TPA&de=1&lr=0&tr=&cv=&ml=1&sn=30&si=&cn=\"\n",
        "teams = ['두산', '삼성', '키움', '한화', '롯데', 'NC', 'SK', 'LG', 'KIA', 'kt']\n",
        "driver.implicitly_wait(5)"
      ],
      "execution_count": null,
      "outputs": []
    },
    {
      "cell_type": "code",
      "metadata": {
        "id": "5xHfB573s1HR"
      },
      "source": [
        "import pandas as pd\n",
        "import os\n",
        "\n",
        "for team in teams:\n",
        "    url = url.format(0, 2020, 2020, team)\n",
        "    driver.get(url)\n",
        "    a_players = driver.find_elements_by_xpath('//*[@id=\"fixcol\"]/table/tbody/tr/td/a')\n",
        "\n",
        "    urls_to_crawl = {}\n",
        "    for a in a_players:\n",
        "        name = a.get_attribute(\"innerText\")\n",
        "        urls_to_crawl[name] = (a.get_attribute('href') + \"&opt=6\")\n",
        "        # 상대별 = opt5 playlog = opt6\n",
        "\n",
        "    # df_list = []\n",
        "    for name, _url in urls_to_crawl.items():\n",
        "        driver.get(_url)\n",
        "        table = driver.find_element_by_css_selector(\"table.table.table-striped.table-responsive\")\n",
        "        table_html = table.get_attribute(\"outerHTML\")\n",
        "        # df_list.append(pd.read_html(table_html)[0])\n",
        "        df = pd.read_html(table_html)[0]\n",
        "        os.makedirs(\"csv/\" + team, exist_ok=True)\n",
        "        df.to_csv(\"csv/{}/타자_{}_playlog.csv\".format(team, name), encoding=\"utf-8-sig\")\n"
      ],
      "execution_count": null,
      "outputs": []
    }
  ]
}